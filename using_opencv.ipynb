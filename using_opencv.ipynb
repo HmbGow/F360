{
  "nbformat": 4,
  "nbformat_minor": 0,
  "metadata": {
    "colab": {
      "name": "Olá, este é o Colaboratory",
      "provenance": [],
      "collapsed_sections": [],
      "include_colab_link": true
    },
    "kernelspec": {
      "display_name": "Python 3",
      "name": "python3"
    }
  },
  "cells": [
    {
      "cell_type": "markdown",
      "metadata": {
        "id": "view-in-github",
        "colab_type": "text"
      },
      "source": [
        "<a href=\"https://colab.research.google.com/github/HmbGow/F360/blob/master/using_opencv.ipynb\" target=\"_parent\"><img src=\"https://colab.research.google.com/assets/colab-badge.svg\" alt=\"Open In Colab\"/></a>"
      ]
    },
    {
      "cell_type": "code",
      "metadata": {
        "id": "a46wA7jjxgRt"
      },
      "source": [
        "import cv2\n",
        "import numpy as np\n",
        "import os\n",
        "from random import shuffle\n",
        "from tqdm import tqdm\n",
        "import tensorflow as tf\n",
        "import matplotlib.pyplot as plt\n",
        "%matplotlib inline\n",
        "\n",
        "train_data = '/var/train'\n",
        "test_data = '/var/test'\n",
        "\n",
        "def one_hot_label():\n",
        "  label = img.split('.')[0]\n",
        "  if label == '5':\n",
        "    ohl = np.array([1,0])\n",
        "  elif label == '6':\n",
        "    ohl = np.array([0,1])\n",
        "  return ohl\n",
        "def train_data_with_label():\n",
        "  train_images = []\n",
        "  for i in tqdm(os.listdir(train_data)):\n",
        "    path = os.path.join(train_data, i)\n",
        "    img = cv2.imread(path, cv2.IMREAD_GRAYSCALE)\n",
        "    train_images.append([np.array(img), one_hot_label(i)])\n",
        "  shuffle(train_images)\n",
        "  return train_images\n",
        "\n",
        "def test_data_with_label():\n",
        "  test_images = []\n",
        "  for i in tqdm(os.listdir(test_data)):\n",
        "    path = os.path.join(test_data, i)\n",
        "    img = cv2.imread(path, cv2.IMREAD_GRAYSCALE)\n",
        "    test_images.append([np.array(img), one_hot_label(i)])\n",
        "  return test_images"
      ],
      "execution_count": 5,
      "outputs": []
    },
    {
      "cell_type": "code",
      "metadata": {
        "id": "9bgxzbIA1Zr_"
      },
      "source": [
        ""
      ],
      "execution_count": null,
      "outputs": []
    }
  ]
}