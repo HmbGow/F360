{
  "nbformat": 4,
  "nbformat_minor": 0,
  "metadata": {
    "colab": {
      "name": "Olá, este é o Colaboratory",
      "provenance": [],
      "collapsed_sections": [],
      "include_colab_link": true
    },
    "kernelspec": {
      "display_name": "Python 3",
      "name": "python3"
    }
  },
  "cells": [
    {
      "cell_type": "markdown",
      "metadata": {
        "id": "view-in-github",
        "colab_type": "text"
      },
      "source": [
        "<a href=\"https://colab.research.google.com/github/HmbGow/F360/blob/master/epoch.ipynb\" target=\"_parent\"><img src=\"https://colab.research.google.com/assets/colab-badge.svg\" alt=\"Open In Colab\"/></a>"
      ]
    },
    {
      "cell_type": "code",
      "metadata": {
        "id": "a46wA7jjxgRt"
      },
      "source": [
        "import cv2\n",
        "import numpy as np\n",
        "import os\n",
        "from random import shuffle\n",
        "from tqdm import tqdm\n",
        "import tensorflow as tf\n",
        "import matplotlib.pyplot as plt\n",
        "%matplotlib inline\n",
        "\n",
        "train_data = '/var/train'\n",
        "test_data = '/var/test'\n",
        "\n",
        "def one_hot_label(img):\n",
        "  label = img.split('.')[0]\n",
        "  ohl = np.array([1,0])\n",
        "  if label == '5':\n",
        "    ohl = np.array([1,0])\n",
        "  elif label == '6':\n",
        "    ohl = np.array([0,1])\n",
        "  return ohl\n",
        "def train_data_with_label():\n",
        "  train_images = []\n",
        "  for i in tqdm(os.listdir(train_data)):\n",
        "    path = os.path.join(train_data, i)\n",
        "    img = cv2.imread(path, cv2.IMREAD_GRAYSCALE)   \n",
        "    img = cv2.resize(img,(480,640))\n",
        "    train_images.append([np.array(img), one_hot_label(i)])\n",
        "  shuffle(train_images)\n",
        "  return train_images\n",
        "\n",
        "def test_data_with_label():\n",
        "  test_images = []\n",
        "  for i in tqdm(os.listdir(test_data)):\n",
        "    path = os.path.join(test_data, i)\n",
        "    img = cv2.imread(path, cv2.IMREAD_GRAYSCALE)\n",
        "    img = cv2.resize(img,(480,640))\n",
        "    test_images.append([np.array(img), one_hot_label(i)])\n",
        "  return test_images"
      ],
      "execution_count": 7,
      "outputs": []
    },
    {
      "cell_type": "code",
      "metadata": {
        "id": "9bgxzbIA1Zr_"
      },
      "source": [
        "from keras.models import Sequential\n",
        "from keras.layers import *\n",
        "from keras.optimizers import *"
      ],
      "execution_count": 8,
      "outputs": []
    },
    {
      "cell_type": "code",
      "metadata": {
        "id": "C9kAC6C7MbSa",
        "colab": {
          "base_uri": "https://localhost:8080/"
        },
        "outputId": "425778c0-9322-4d37-dfcd-f77177a3f092"
      },
      "source": [
        "training_images = train_data_with_label()\n",
        "testing_images = test_data_with_label()\n",
        "tr_img_data = np.array([i[0] for i in training_images]).reshape(-1,480,640,1)\n",
        "tr_lbl_data = np.array([i[1] for i in training_images])\n",
        "tst_img_data = np.array([i[0] for i in testing_images]).reshape(-1,480,640,1)\n",
        "tst_lbl_data = np.array([i[1] for i in testing_images])"
      ],
      "execution_count": 9,
      "outputs": [
        {
          "output_type": "stream",
          "text": [
            "100%|██████████| 13/13 [00:00<00:00, 48.27it/s]\n",
            "100%|██████████| 5/5 [00:00<00:00, 45.67it/s]\n"
          ],
          "name": "stderr"
        }
      ]
    },
    {
      "cell_type": "code",
      "metadata": {
        "id": "TpKzSyEGPFWd",
        "colab": {
          "base_uri": "https://localhost:8080/"
        },
        "outputId": "c3905883-b8dc-4a84-b33e-7487d9b467da"
      },
      "source": [
        "model = Sequential()\n",
        "\n",
        "model.add(InputLayer(input_shape=[480, 640, 1]))\n",
        "model.add(Conv2D(filters=32, kernel_size=5, strides=1, padding='same', activation='relu'))\n",
        "model.add(MaxPool2D(pool_size=5,padding='same'))\n",
        "\n",
        "model.add(Conv2D(filters=50,kernel_size=5,strides=1,padding='same', activation='relu'))\n",
        "model.add(MaxPool2D(pool_size=5,padding='same'))\n",
        "\n",
        "model.add(Conv2D(filters=80,kernel_size=5,strides=1,padding='same', activation='relu'))\n",
        "model.add(MaxPool2D(pool_size=5,padding='same'))\n",
        "\n",
        "model.add(Dropout(0.25))\n",
        "model.add(Flatten())\n",
        "model.add(Dense(512,activation='relu'))\n",
        "model.add(Dropout(rate=0.5))\n",
        "model.add(Dense(2,activation='softmax'))\n",
        "optimizer = Adam(lr=1e-3)\n",
        "\n",
        "model.compile(optimizer=optimizer,loss='categorical_crossentropy',metrics=['accuracy'])\n",
        "model.fit(x=tr_img_data,y=tr_lbl_data,epochs=20,batch_size=100)\n",
        "model.summary()"
      ],
      "execution_count": 15,
      "outputs": [
        {
          "output_type": "stream",
          "text": [
            "Epoch 1/20\n",
            "1/1 [==============================] - 0s 2ms/step - loss: 10.2009 - accuracy: 0.3846\n",
            "Epoch 2/20\n",
            "1/1 [==============================] - 0s 1ms/step - loss: 24.3528 - accuracy: 0.6923\n",
            "Epoch 3/20\n",
            "1/1 [==============================] - 0s 1ms/step - loss: 5.7136 - accuracy: 0.4615\n",
            "Epoch 4/20\n",
            "1/1 [==============================] - 0s 1ms/step - loss: 6.2703 - accuracy: 0.6154\n",
            "Epoch 5/20\n",
            "1/1 [==============================] - 0s 1ms/step - loss: 6.5462 - accuracy: 0.6154\n",
            "Epoch 6/20\n",
            "1/1 [==============================] - 0s 7ms/step - loss: 3.7884 - accuracy: 0.4615\n",
            "Epoch 7/20\n",
            "1/1 [==============================] - 0s 10ms/step - loss: 3.5481 - accuracy: 0.3846\n",
            "Epoch 8/20\n",
            "1/1 [==============================] - 0s 1ms/step - loss: 2.5641 - accuracy: 0.4615\n",
            "Epoch 9/20\n",
            "1/1 [==============================] - 0s 1ms/step - loss: 2.3235 - accuracy: 0.6923\n",
            "Epoch 10/20\n",
            "1/1 [==============================] - 0s 1ms/step - loss: 1.0151 - accuracy: 0.6923\n",
            "Epoch 11/20\n",
            "1/1 [==============================] - 0s 1ms/step - loss: 0.5280 - accuracy: 0.6923\n",
            "Epoch 12/20\n",
            "1/1 [==============================] - 0s 1ms/step - loss: 1.6092 - accuracy: 0.4615\n",
            "Epoch 13/20\n",
            "1/1 [==============================] - 0s 2ms/step - loss: 0.7978 - accuracy: 0.5385\n",
            "Epoch 14/20\n",
            "1/1 [==============================] - 0s 1ms/step - loss: 0.4668 - accuracy: 0.7692\n",
            "Epoch 15/20\n",
            "1/1 [==============================] - 0s 2ms/step - loss: 0.4525 - accuracy: 0.9231\n",
            "Epoch 16/20\n",
            "1/1 [==============================] - 0s 1ms/step - loss: 0.4312 - accuracy: 0.6923\n",
            "Epoch 17/20\n",
            "1/1 [==============================] - 0s 1ms/step - loss: 0.6249 - accuracy: 0.7692\n",
            "Epoch 18/20\n",
            "1/1 [==============================] - 0s 1ms/step - loss: 0.6500 - accuracy: 0.7692\n",
            "Epoch 19/20\n",
            "1/1 [==============================] - 0s 1ms/step - loss: 0.3567 - accuracy: 0.9231\n",
            "Epoch 20/20\n",
            "1/1 [==============================] - 0s 1ms/step - loss: 0.4417 - accuracy: 0.8462\n",
            "Model: \"sequential_7\"\n",
            "_________________________________________________________________\n",
            "Layer (type)                 Output Shape              Param #   \n",
            "=================================================================\n",
            "conv2d_21 (Conv2D)           (None, 480, 640, 32)      832       \n",
            "_________________________________________________________________\n",
            "max_pooling2d_21 (MaxPooling (None, 96, 128, 32)       0         \n",
            "_________________________________________________________________\n",
            "conv2d_22 (Conv2D)           (None, 96, 128, 50)       40050     \n",
            "_________________________________________________________________\n",
            "max_pooling2d_22 (MaxPooling (None, 20, 26, 50)        0         \n",
            "_________________________________________________________________\n",
            "conv2d_23 (Conv2D)           (None, 20, 26, 80)        100080    \n",
            "_________________________________________________________________\n",
            "max_pooling2d_23 (MaxPooling (None, 4, 6, 80)          0         \n",
            "_________________________________________________________________\n",
            "dropout_14 (Dropout)         (None, 4, 6, 80)          0         \n",
            "_________________________________________________________________\n",
            "flatten_7 (Flatten)          (None, 1920)              0         \n",
            "_________________________________________________________________\n",
            "dense_13 (Dense)             (None, 512)               983552    \n",
            "_________________________________________________________________\n",
            "dropout_15 (Dropout)         (None, 512)               0         \n",
            "_________________________________________________________________\n",
            "dense_14 (Dense)             (None, 2)                 1026      \n",
            "=================================================================\n",
            "Total params: 1,125,540\n",
            "Trainable params: 1,125,540\n",
            "Non-trainable params: 0\n",
            "_________________________________________________________________\n"
          ],
          "name": "stdout"
        }
      ]
    },
    {
      "cell_type": "code",
      "metadata": {
        "id": "AXYtbt2cx4OG"
      },
      "source": [
        ""
      ],
      "execution_count": null,
      "outputs": []
    }
  ]
}